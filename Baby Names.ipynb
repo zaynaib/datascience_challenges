{
 "cells": [
  {
   "cell_type": "code",
   "execution_count": 1,
   "metadata": {
    "collapsed": true
   },
   "outputs": [],
   "source": [
    "import numpy as np\n",
    "import matplotlib.pyplot as pp\n",
    "import pandas as pd\n",
    "import seaborn"
   ]
  },
  {
   "cell_type": "code",
   "execution_count": 2,
   "metadata": {
    "collapsed": true
   },
   "outputs": [],
   "source": [
    "%matplotlib inline"
   ]
  },
  {
   "cell_type": "code",
   "execution_count": 4,
   "metadata": {
    "collapsed": false
   },
   "outputs": [],
   "source": [
    "import zipfile\n",
    "zipfile.ZipFile('names.zip').extractall('.')"
   ]
  },
  {
   "cell_type": "code",
   "execution_count": 3,
   "metadata": {
    "collapsed": false
   },
   "outputs": [],
   "source": [
    "import os"
   ]
  },
  {
   "cell_type": "code",
   "execution_count": 4,
   "metadata": {
    "collapsed": false
   },
   "outputs": [
    {
     "data": {
      "text/plain": [
       "['AK.TXT',\n",
       " 'AL.TXT',\n",
       " 'AR.TXT',\n",
       " 'AZ.TXT',\n",
       " 'CA.TXT',\n",
       " 'CO.TXT',\n",
       " 'CT.TXT',\n",
       " 'DC.TXT',\n",
       " 'DE.TXT',\n",
       " 'FL.TXT',\n",
       " 'GA.TXT',\n",
       " 'HI.TXT',\n",
       " 'IA.TXT',\n",
       " 'ID.TXT',\n",
       " 'IL.TXT',\n",
       " 'IN.TXT',\n",
       " 'KS.TXT',\n",
       " 'KY.TXT',\n",
       " 'LA.TXT',\n",
       " 'MA.TXT',\n",
       " 'MD.TXT',\n",
       " 'ME.TXT',\n",
       " 'MI.TXT',\n",
       " 'MN.TXT',\n",
       " 'MO.TXT',\n",
       " 'MS.TXT',\n",
       " 'MT.TXT',\n",
       " 'NC.TXT',\n",
       " 'ND.TXT',\n",
       " 'NE.TXT',\n",
       " 'NH.TXT',\n",
       " 'NJ.TXT',\n",
       " 'NM.TXT',\n",
       " 'NV.TXT',\n",
       " 'NY.TXT',\n",
       " 'OH.TXT',\n",
       " 'OK.TXT',\n",
       " 'OR.TXT',\n",
       " 'PA.TXT',\n",
       " 'RI.TXT',\n",
       " 'SC.TXT',\n",
       " 'SD.TXT',\n",
       " 'TN.TXT',\n",
       " 'TX.TXT',\n",
       " 'UT.TXT',\n",
       " 'VA.TXT',\n",
       " 'VT.TXT',\n",
       " 'WA.TXT',\n",
       " 'WI.TXT',\n",
       " 'WV.TXT',\n",
       " 'WY.TXT']"
      ]
     },
     "execution_count": 4,
     "metadata": {},
     "output_type": "execute_result"
    }
   ],
   "source": [
    "os.listdir('names')"
   ]
  },
  {
   "cell_type": "code",
   "execution_count": 5,
   "metadata": {
    "collapsed": false
   },
   "outputs": [
    {
     "data": {
      "text/plain": [
       "['WY,F,1910,Mary,27\\n',\n",
       " 'WY,F,1910,Margaret,22\\n',\n",
       " 'WY,F,1910,Helen,13\\n',\n",
       " 'WY,F,1910,Alice,10\\n',\n",
       " 'WY,F,1910,Dorothy,9\\n',\n",
       " 'WY,F,1910,Frances,8\\n',\n",
       " 'WY,F,1910,Josephine,8\\n',\n",
       " 'WY,F,1910,Lena,8\\n',\n",
       " 'WY,F,1910,Anna,7\\n',\n",
       " 'WY,F,1910,Ruth,7\\n']"
      ]
     },
     "execution_count": 5,
     "metadata": {},
     "output_type": "execute_result"
    }
   ],
   "source": [
    "open('names/WY.txt','r').readlines()[:10]"
   ]
  },
  {
   "cell_type": "code",
   "execution_count": 6,
   "metadata": {
    "collapsed": false
   },
   "outputs": [],
   "source": [
    "dataWY =pd.read_table('names/WY.txt',sep=\",\",names= [\"state\",\"sex\",\"year\",\"name\",\"number\"])"
   ]
  },
  {
   "cell_type": "code",
   "execution_count": 7,
   "metadata": {
    "collapsed": false
   },
   "outputs": [
    {
     "data": {
      "text/html": [
       "<div>\n",
       "<table border=\"1\" class=\"dataframe\">\n",
       "  <thead>\n",
       "    <tr style=\"text-align: right;\">\n",
       "      <th></th>\n",
       "      <th>state</th>\n",
       "      <th>sex</th>\n",
       "      <th>year</th>\n",
       "      <th>name</th>\n",
       "      <th>number</th>\n",
       "    </tr>\n",
       "  </thead>\n",
       "  <tbody>\n",
       "    <tr>\n",
       "      <th>0</th>\n",
       "      <td>WY</td>\n",
       "      <td>F</td>\n",
       "      <td>1910</td>\n",
       "      <td>Mary</td>\n",
       "      <td>27</td>\n",
       "    </tr>\n",
       "    <tr>\n",
       "      <th>1</th>\n",
       "      <td>WY</td>\n",
       "      <td>F</td>\n",
       "      <td>1910</td>\n",
       "      <td>Margaret</td>\n",
       "      <td>22</td>\n",
       "    </tr>\n",
       "    <tr>\n",
       "      <th>2</th>\n",
       "      <td>WY</td>\n",
       "      <td>F</td>\n",
       "      <td>1910</td>\n",
       "      <td>Helen</td>\n",
       "      <td>13</td>\n",
       "    </tr>\n",
       "    <tr>\n",
       "      <th>3</th>\n",
       "      <td>WY</td>\n",
       "      <td>F</td>\n",
       "      <td>1910</td>\n",
       "      <td>Alice</td>\n",
       "      <td>10</td>\n",
       "    </tr>\n",
       "    <tr>\n",
       "      <th>4</th>\n",
       "      <td>WY</td>\n",
       "      <td>F</td>\n",
       "      <td>1910</td>\n",
       "      <td>Dorothy</td>\n",
       "      <td>9</td>\n",
       "    </tr>\n",
       "  </tbody>\n",
       "</table>\n",
       "</div>"
      ],
      "text/plain": [
       "  state sex  year      name  number\n",
       "0    WY   F  1910      Mary      27\n",
       "1    WY   F  1910  Margaret      22\n",
       "2    WY   F  1910     Helen      13\n",
       "3    WY   F  1910     Alice      10\n",
       "4    WY   F  1910   Dorothy       9"
      ]
     },
     "execution_count": 7,
     "metadata": {},
     "output_type": "execute_result"
    }
   ],
   "source": [
    "dataWY.head()"
   ]
  },
  {
   "cell_type": "code",
   "execution_count": 8,
   "metadata": {
    "collapsed": true
   },
   "outputs": [],
   "source": [
    "import glob \n",
    "#http://stackoverflow.com/questions/20906474/import-multiple-csv-files-into-pandas-and-concatenate-into-one-dataframe\n",
    "#http://chrisalbon.com/python/pandas_dropping_column_and_rows.html\n",
    "#http://chrisalbon.com/python/pandas_dropping_column_and_rows.html\n",
    "#http://www.gregreda.com/2013/10/26/working-with-pandas-dataframes/"
   ]
  },
  {
   "cell_type": "code",
   "execution_count": 10,
   "metadata": {
    "collapsed": false
   },
   "outputs": [],
   "source": [
    "path =r'names' # use your path\n",
    "allFiles = glob.glob(path + \"/*.txt\")\n",
    "frame = pd.DataFrame()\n",
    "list_ = []\n",
    "for file_ in allFiles:\n",
    "    df = pd.read_table(file_,sep=\",\",names=[\"state\",\"sex\",\"year\",\"name\",\"number\"])\n",
    "    list_.append(df)\n",
    "frame = pd.concat(list_)"
   ]
  },
  {
   "cell_type": "code",
   "execution_count": 106,
   "metadata": {
    "collapsed": false
   },
   "outputs": [
    {
     "data": {
      "text/html": [
       "<div>\n",
       "<table border=\"1\" class=\"dataframe\">\n",
       "  <thead>\n",
       "    <tr style=\"text-align: right;\">\n",
       "      <th></th>\n",
       "      <th>state</th>\n",
       "      <th>sex</th>\n",
       "      <th>year</th>\n",
       "      <th>name</th>\n",
       "      <th>number</th>\n",
       "    </tr>\n",
       "  </thead>\n",
       "  <tbody>\n",
       "    <tr>\n",
       "      <th>0</th>\n",
       "      <td>AK</td>\n",
       "      <td>F</td>\n",
       "      <td>1910</td>\n",
       "      <td>Mary</td>\n",
       "      <td>14</td>\n",
       "    </tr>\n",
       "    <tr>\n",
       "      <th>1</th>\n",
       "      <td>AK</td>\n",
       "      <td>F</td>\n",
       "      <td>1910</td>\n",
       "      <td>Annie</td>\n",
       "      <td>12</td>\n",
       "    </tr>\n",
       "    <tr>\n",
       "      <th>2</th>\n",
       "      <td>AK</td>\n",
       "      <td>F</td>\n",
       "      <td>1910</td>\n",
       "      <td>Anna</td>\n",
       "      <td>10</td>\n",
       "    </tr>\n",
       "    <tr>\n",
       "      <th>3</th>\n",
       "      <td>AK</td>\n",
       "      <td>F</td>\n",
       "      <td>1910</td>\n",
       "      <td>Margaret</td>\n",
       "      <td>8</td>\n",
       "    </tr>\n",
       "    <tr>\n",
       "      <th>4</th>\n",
       "      <td>AK</td>\n",
       "      <td>F</td>\n",
       "      <td>1910</td>\n",
       "      <td>Helen</td>\n",
       "      <td>7</td>\n",
       "    </tr>\n",
       "  </tbody>\n",
       "</table>\n",
       "</div>"
      ],
      "text/plain": [
       "  state sex  year      name  number\n",
       "0    AK   F  1910      Mary      14\n",
       "1    AK   F  1910     Annie      12\n",
       "2    AK   F  1910      Anna      10\n",
       "3    AK   F  1910  Margaret       8\n",
       "4    AK   F  1910     Helen       7"
      ]
     },
     "execution_count": 106,
     "metadata": {},
     "output_type": "execute_result"
    }
   ],
   "source": [
    "frame.head()"
   ]
  },
  {
   "cell_type": "code",
   "execution_count": 14,
   "metadata": {
    "collapsed": false
   },
   "outputs": [
    {
     "data": {
      "text/html": [
       "<div>\n",
       "<table border=\"1\" class=\"dataframe\">\n",
       "  <thead>\n",
       "    <tr style=\"text-align: right;\">\n",
       "      <th></th>\n",
       "      <th>state</th>\n",
       "      <th>sex</th>\n",
       "      <th>year</th>\n",
       "      <th>name</th>\n",
       "      <th>number</th>\n",
       "    </tr>\n",
       "  </thead>\n",
       "  <tbody>\n",
       "    <tr>\n",
       "      <th>26909</th>\n",
       "      <td>WY</td>\n",
       "      <td>M</td>\n",
       "      <td>2014</td>\n",
       "      <td>Seth</td>\n",
       "      <td>5</td>\n",
       "    </tr>\n",
       "    <tr>\n",
       "      <th>26910</th>\n",
       "      <td>WY</td>\n",
       "      <td>M</td>\n",
       "      <td>2014</td>\n",
       "      <td>Spencer</td>\n",
       "      <td>5</td>\n",
       "    </tr>\n",
       "    <tr>\n",
       "      <th>26911</th>\n",
       "      <td>WY</td>\n",
       "      <td>M</td>\n",
       "      <td>2014</td>\n",
       "      <td>Tyce</td>\n",
       "      <td>5</td>\n",
       "    </tr>\n",
       "    <tr>\n",
       "      <th>26912</th>\n",
       "      <td>WY</td>\n",
       "      <td>M</td>\n",
       "      <td>2014</td>\n",
       "      <td>Victor</td>\n",
       "      <td>5</td>\n",
       "    </tr>\n",
       "    <tr>\n",
       "      <th>26913</th>\n",
       "      <td>WY</td>\n",
       "      <td>M</td>\n",
       "      <td>2014</td>\n",
       "      <td>Waylon</td>\n",
       "      <td>5</td>\n",
       "    </tr>\n",
       "  </tbody>\n",
       "</table>\n",
       "</div>"
      ],
      "text/plain": [
       "      state sex  year     name  number\n",
       "26909    WY   M  2014     Seth       5\n",
       "26910    WY   M  2014  Spencer       5\n",
       "26911    WY   M  2014     Tyce       5\n",
       "26912    WY   M  2014   Victor       5\n",
       "26913    WY   M  2014   Waylon       5"
      ]
     },
     "execution_count": 14,
     "metadata": {},
     "output_type": "execute_result"
    }
   ],
   "source": [
    "frame.tail()"
   ]
  },
  {
   "cell_type": "code",
   "execution_count": 166,
   "metadata": {
    "collapsed": false
   },
   "outputs": [
    {
     "data": {
      "text/html": [
       "<div>\n",
       "<table border=\"1\" class=\"dataframe\">\n",
       "  <thead>\n",
       "    <tr style=\"text-align: right;\">\n",
       "      <th></th>\n",
       "      <th>year</th>\n",
       "      <th>number</th>\n",
       "    </tr>\n",
       "  </thead>\n",
       "  <tbody>\n",
       "    <tr>\n",
       "      <th>count</th>\n",
       "      <td>5647426.000000</td>\n",
       "      <td>5647426.000000</td>\n",
       "    </tr>\n",
       "    <tr>\n",
       "      <th>mean</th>\n",
       "      <td>1972.391787</td>\n",
       "      <td>52.923814</td>\n",
       "    </tr>\n",
       "    <tr>\n",
       "      <th>std</th>\n",
       "      <td>29.573899</td>\n",
       "      <td>180.810001</td>\n",
       "    </tr>\n",
       "    <tr>\n",
       "      <th>min</th>\n",
       "      <td>1910.000000</td>\n",
       "      <td>5.000000</td>\n",
       "    </tr>\n",
       "    <tr>\n",
       "      <th>25%</th>\n",
       "      <td>1949.000000</td>\n",
       "      <td>7.000000</td>\n",
       "    </tr>\n",
       "    <tr>\n",
       "      <th>50%</th>\n",
       "      <td>1977.000000</td>\n",
       "      <td>13.000000</td>\n",
       "    </tr>\n",
       "    <tr>\n",
       "      <th>75%</th>\n",
       "      <td>1999.000000</td>\n",
       "      <td>34.000000</td>\n",
       "    </tr>\n",
       "    <tr>\n",
       "      <th>max</th>\n",
       "      <td>2014.000000</td>\n",
       "      <td>10023.000000</td>\n",
       "    </tr>\n",
       "  </tbody>\n",
       "</table>\n",
       "</div>"
      ],
      "text/plain": [
       "                 year          number\n",
       "count  5647426.000000  5647426.000000\n",
       "mean      1972.391787       52.923814\n",
       "std         29.573899      180.810001\n",
       "min       1910.000000        5.000000\n",
       "25%       1949.000000        7.000000\n",
       "50%       1977.000000       13.000000\n",
       "75%       1999.000000       34.000000\n",
       "max       2014.000000    10023.000000"
      ]
     },
     "execution_count": 166,
     "metadata": {},
     "output_type": "execute_result"
    }
   ],
   "source": [
    "frame.describe()"
   ]
  },
  {
   "cell_type": "code",
   "execution_count": 24,
   "metadata": {
    "collapsed": false
   },
   "outputs": [
    {
     "data": {
      "text/html": [
       "<div>\n",
       "<table border=\"1\" class=\"dataframe\">\n",
       "  <thead>\n",
       "    <tr style=\"text-align: right;\">\n",
       "      <th></th>\n",
       "      <th>sex</th>\n",
       "      <th>year</th>\n",
       "      <th>name</th>\n",
       "      <th>number</th>\n",
       "    </tr>\n",
       "  </thead>\n",
       "  <tbody>\n",
       "    <tr>\n",
       "      <th>0</th>\n",
       "      <td>F</td>\n",
       "      <td>1910</td>\n",
       "      <td>Mary</td>\n",
       "      <td>27</td>\n",
       "    </tr>\n",
       "    <tr>\n",
       "      <th>1</th>\n",
       "      <td>F</td>\n",
       "      <td>1910</td>\n",
       "      <td>Margaret</td>\n",
       "      <td>22</td>\n",
       "    </tr>\n",
       "    <tr>\n",
       "      <th>2</th>\n",
       "      <td>F</td>\n",
       "      <td>1910</td>\n",
       "      <td>Helen</td>\n",
       "      <td>13</td>\n",
       "    </tr>\n",
       "    <tr>\n",
       "      <th>3</th>\n",
       "      <td>F</td>\n",
       "      <td>1910</td>\n",
       "      <td>Alice</td>\n",
       "      <td>10</td>\n",
       "    </tr>\n",
       "    <tr>\n",
       "      <th>4</th>\n",
       "      <td>F</td>\n",
       "      <td>1910</td>\n",
       "      <td>Dorothy</td>\n",
       "      <td>9</td>\n",
       "    </tr>\n",
       "  </tbody>\n",
       "</table>\n",
       "</div>"
      ],
      "text/plain": [
       "  sex  year      name  number\n",
       "0   F  1910      Mary      27\n",
       "1   F  1910  Margaret      22\n",
       "2   F  1910     Helen      13\n",
       "3   F  1910     Alice      10\n",
       "4   F  1910   Dorothy       9"
      ]
     },
     "execution_count": 24,
     "metadata": {},
     "output_type": "execute_result"
    }
   ],
   "source": [
    "df_lng= df.drop('state', axis=1)\n",
    "df_lng.head()"
   ]
  },
  {
   "cell_type": "code",
   "execution_count": 30,
   "metadata": {
    "collapsed": true
   },
   "outputs": [],
   "source": [
    "allyears = df_lng.set_index(['sex','name','year']).sort_index()\n",
    "#allyears = df_lng.set_index(['name','sex','year']).sort_index()"
   ]
  },
  {
   "cell_type": "code",
   "execution_count": 42,
   "metadata": {
    "collapsed": false
   },
   "outputs": [
    {
     "data": {
      "text/html": [
       "<div>\n",
       "<table border=\"1\" class=\"dataframe\">\n",
       "  <thead>\n",
       "    <tr style=\"text-align: right;\">\n",
       "      <th></th>\n",
       "      <th></th>\n",
       "      <th></th>\n",
       "      <th>number</th>\n",
       "    </tr>\n",
       "    <tr>\n",
       "      <th>sex</th>\n",
       "      <th>name</th>\n",
       "      <th>year</th>\n",
       "      <th></th>\n",
       "    </tr>\n",
       "  </thead>\n",
       "  <tbody>\n",
       "    <tr>\n",
       "      <th rowspan=\"5\" valign=\"top\">F</th>\n",
       "      <th rowspan=\"5\" valign=\"top\">Aaliyah</th>\n",
       "      <th>2010</th>\n",
       "      <td>7</td>\n",
       "    </tr>\n",
       "    <tr>\n",
       "      <th>2011</th>\n",
       "      <td>11</td>\n",
       "    </tr>\n",
       "    <tr>\n",
       "      <th>2012</th>\n",
       "      <td>5</td>\n",
       "    </tr>\n",
       "    <tr>\n",
       "      <th>2013</th>\n",
       "      <td>5</td>\n",
       "    </tr>\n",
       "    <tr>\n",
       "      <th>2014</th>\n",
       "      <td>9</td>\n",
       "    </tr>\n",
       "  </tbody>\n",
       "</table>\n",
       "</div>"
      ],
      "text/plain": [
       "                  number\n",
       "sex name    year        \n",
       "F   Aaliyah 2010       7\n",
       "            2011      11\n",
       "            2012       5\n",
       "            2013       5\n",
       "            2014       9"
      ]
     },
     "execution_count": 42,
     "metadata": {},
     "output_type": "execute_result"
    }
   ],
   "source": [
    "allyears.head()"
   ]
  },
  {
   "cell_type": "code",
   "execution_count": 45,
   "metadata": {
    "collapsed": false
   },
   "outputs": [
    {
     "data": {
      "text/html": [
       "<div>\n",
       "<table border=\"1\" class=\"dataframe\">\n",
       "  <thead>\n",
       "    <tr style=\"text-align: right;\">\n",
       "      <th></th>\n",
       "      <th>number</th>\n",
       "    </tr>\n",
       "    <tr>\n",
       "      <th>year</th>\n",
       "      <th></th>\n",
       "    </tr>\n",
       "  </thead>\n",
       "  <tbody>\n",
       "    <tr>\n",
       "      <th>1910</th>\n",
       "      <td>27</td>\n",
       "    </tr>\n",
       "    <tr>\n",
       "      <th>1911</th>\n",
       "      <td>30</td>\n",
       "    </tr>\n",
       "    <tr>\n",
       "      <th>1912</th>\n",
       "      <td>44</td>\n",
       "    </tr>\n",
       "    <tr>\n",
       "      <th>1913</th>\n",
       "      <td>50</td>\n",
       "    </tr>\n",
       "    <tr>\n",
       "      <th>1914</th>\n",
       "      <td>55</td>\n",
       "    </tr>\n",
       "  </tbody>\n",
       "</table>\n",
       "</div>"
      ],
      "text/plain": [
       "      number\n",
       "year        \n",
       "1910      27\n",
       "1911      30\n",
       "1912      44\n",
       "1913      50\n",
       "1914      55"
      ]
     },
     "execution_count": 45,
     "metadata": {},
     "output_type": "execute_result"
    }
   ],
   "source": [
    "allyears.loc['F','Mary'].head()"
   ]
  },
  {
   "cell_type": "code",
   "execution_count": null,
   "metadata": {
    "collapsed": false
   },
   "outputs": [],
   "source": []
  },
  {
   "cell_type": "code",
   "execution_count": 34,
   "metadata": {
    "collapsed": false
   },
   "outputs": [],
   "source": [
    "#df_lng.groupby(\"year\").tail()\n",
    "#pd.pivot_table(frame, values=['number'],columns=['sex','']).head()\n",
    "#data_wide.head()"
   ]
  },
  {
   "cell_type": "code",
   "execution_count": 38,
   "metadata": {
    "collapsed": false
   },
   "outputs": [],
   "source": [
    "#frame_indexed = frame.set_index(['state','sex','year','name','number']).sort_index()\n",
    "frame_indexed = frame.set_index(['sex','name','state','year','number']).sort_index()\n",
    "\n"
   ]
  },
  {
   "cell_type": "code",
   "execution_count": 39,
   "metadata": {
    "collapsed": false
   },
   "outputs": [
    {
     "data": {
      "text/html": [
       "<div>\n",
       "<table border=\"1\" class=\"dataframe\">\n",
       "  <thead>\n",
       "    <tr style=\"text-align: right;\">\n",
       "      <th></th>\n",
       "      <th></th>\n",
       "      <th></th>\n",
       "    </tr>\n",
       "    <tr>\n",
       "      <th>state</th>\n",
       "      <th>year</th>\n",
       "      <th>number</th>\n",
       "    </tr>\n",
       "  </thead>\n",
       "  <tbody>\n",
       "    <tr>\n",
       "      <th rowspan=\"30\" valign=\"top\">AK</th>\n",
       "      <th>1910</th>\n",
       "      <th>14</th>\n",
       "    </tr>\n",
       "    <tr>\n",
       "      <th>1911</th>\n",
       "      <th>12</th>\n",
       "    </tr>\n",
       "    <tr>\n",
       "      <th>1912</th>\n",
       "      <th>9</th>\n",
       "    </tr>\n",
       "    <tr>\n",
       "      <th>1913</th>\n",
       "      <th>21</th>\n",
       "    </tr>\n",
       "    <tr>\n",
       "      <th>1914</th>\n",
       "      <th>22</th>\n",
       "    </tr>\n",
       "    <tr>\n",
       "      <th>1915</th>\n",
       "      <th>23</th>\n",
       "    </tr>\n",
       "    <tr>\n",
       "      <th>1916</th>\n",
       "      <th>18</th>\n",
       "    </tr>\n",
       "    <tr>\n",
       "      <th>1917</th>\n",
       "      <th>21</th>\n",
       "    </tr>\n",
       "    <tr>\n",
       "      <th>1918</th>\n",
       "      <th>27</th>\n",
       "    </tr>\n",
       "    <tr>\n",
       "      <th>1919</th>\n",
       "      <th>22</th>\n",
       "    </tr>\n",
       "    <tr>\n",
       "      <th>1920</th>\n",
       "      <th>38</th>\n",
       "    </tr>\n",
       "    <tr>\n",
       "      <th>1921</th>\n",
       "      <th>36</th>\n",
       "    </tr>\n",
       "    <tr>\n",
       "      <th>1922</th>\n",
       "      <th>29</th>\n",
       "    </tr>\n",
       "    <tr>\n",
       "      <th>1923</th>\n",
       "      <th>26</th>\n",
       "    </tr>\n",
       "    <tr>\n",
       "      <th>1924</th>\n",
       "      <th>41</th>\n",
       "    </tr>\n",
       "    <tr>\n",
       "      <th>1925</th>\n",
       "      <th>24</th>\n",
       "    </tr>\n",
       "    <tr>\n",
       "      <th>1926</th>\n",
       "      <th>39</th>\n",
       "    </tr>\n",
       "    <tr>\n",
       "      <th>1927</th>\n",
       "      <th>30</th>\n",
       "    </tr>\n",
       "    <tr>\n",
       "      <th>1928</th>\n",
       "      <th>27</th>\n",
       "    </tr>\n",
       "    <tr>\n",
       "      <th>1929</th>\n",
       "      <th>25</th>\n",
       "    </tr>\n",
       "    <tr>\n",
       "      <th>1930</th>\n",
       "      <th>35</th>\n",
       "    </tr>\n",
       "    <tr>\n",
       "      <th>1931</th>\n",
       "      <th>41</th>\n",
       "    </tr>\n",
       "    <tr>\n",
       "      <th>1932</th>\n",
       "      <th>26</th>\n",
       "    </tr>\n",
       "    <tr>\n",
       "      <th>1933</th>\n",
       "      <th>25</th>\n",
       "    </tr>\n",
       "    <tr>\n",
       "      <th>1934</th>\n",
       "      <th>31</th>\n",
       "    </tr>\n",
       "    <tr>\n",
       "      <th>1935</th>\n",
       "      <th>29</th>\n",
       "    </tr>\n",
       "    <tr>\n",
       "      <th>1936</th>\n",
       "      <th>33</th>\n",
       "    </tr>\n",
       "    <tr>\n",
       "      <th>1937</th>\n",
       "      <th>41</th>\n",
       "    </tr>\n",
       "    <tr>\n",
       "      <th>1938</th>\n",
       "      <th>37</th>\n",
       "    </tr>\n",
       "    <tr>\n",
       "      <th>1939</th>\n",
       "      <th>28</th>\n",
       "    </tr>\n",
       "    <tr>\n",
       "      <th>...</th>\n",
       "      <th>...</th>\n",
       "      <th>...</th>\n",
       "    </tr>\n",
       "    <tr>\n",
       "      <th rowspan=\"30\" valign=\"top\">WY</th>\n",
       "      <th>1977</th>\n",
       "      <th>17</th>\n",
       "    </tr>\n",
       "    <tr>\n",
       "      <th>1978</th>\n",
       "      <th>24</th>\n",
       "    </tr>\n",
       "    <tr>\n",
       "      <th>1979</th>\n",
       "      <th>31</th>\n",
       "    </tr>\n",
       "    <tr>\n",
       "      <th>1980</th>\n",
       "      <th>24</th>\n",
       "    </tr>\n",
       "    <tr>\n",
       "      <th>1981</th>\n",
       "      <th>36</th>\n",
       "    </tr>\n",
       "    <tr>\n",
       "      <th>1982</th>\n",
       "      <th>28</th>\n",
       "    </tr>\n",
       "    <tr>\n",
       "      <th>1983</th>\n",
       "      <th>24</th>\n",
       "    </tr>\n",
       "    <tr>\n",
       "      <th>1984</th>\n",
       "      <th>17</th>\n",
       "    </tr>\n",
       "    <tr>\n",
       "      <th>1985</th>\n",
       "      <th>14</th>\n",
       "    </tr>\n",
       "    <tr>\n",
       "      <th>1986</th>\n",
       "      <th>18</th>\n",
       "    </tr>\n",
       "    <tr>\n",
       "      <th>1987</th>\n",
       "      <th>13</th>\n",
       "    </tr>\n",
       "    <tr>\n",
       "      <th>1988</th>\n",
       "      <th>9</th>\n",
       "    </tr>\n",
       "    <tr>\n",
       "      <th>1989</th>\n",
       "      <th>13</th>\n",
       "    </tr>\n",
       "    <tr>\n",
       "      <th>1990</th>\n",
       "      <th>12</th>\n",
       "    </tr>\n",
       "    <tr>\n",
       "      <th>1991</th>\n",
       "      <th>13</th>\n",
       "    </tr>\n",
       "    <tr>\n",
       "      <th>1992</th>\n",
       "      <th>11</th>\n",
       "    </tr>\n",
       "    <tr>\n",
       "      <th>1995</th>\n",
       "      <th>5</th>\n",
       "    </tr>\n",
       "    <tr>\n",
       "      <th>1996</th>\n",
       "      <th>8</th>\n",
       "    </tr>\n",
       "    <tr>\n",
       "      <th>1997</th>\n",
       "      <th>6</th>\n",
       "    </tr>\n",
       "    <tr>\n",
       "      <th>1998</th>\n",
       "      <th>11</th>\n",
       "    </tr>\n",
       "    <tr>\n",
       "      <th>1999</th>\n",
       "      <th>5</th>\n",
       "    </tr>\n",
       "    <tr>\n",
       "      <th>2000</th>\n",
       "      <th>12</th>\n",
       "    </tr>\n",
       "    <tr>\n",
       "      <th>2001</th>\n",
       "      <th>5</th>\n",
       "    </tr>\n",
       "    <tr>\n",
       "      <th>2002</th>\n",
       "      <th>9</th>\n",
       "    </tr>\n",
       "    <tr>\n",
       "      <th>2004</th>\n",
       "      <th>5</th>\n",
       "    </tr>\n",
       "    <tr>\n",
       "      <th>2007</th>\n",
       "      <th>7</th>\n",
       "    </tr>\n",
       "    <tr>\n",
       "      <th>2008</th>\n",
       "      <th>6</th>\n",
       "    </tr>\n",
       "    <tr>\n",
       "      <th>2009</th>\n",
       "      <th>7</th>\n",
       "    </tr>\n",
       "    <tr>\n",
       "      <th>2010</th>\n",
       "      <th>8</th>\n",
       "    </tr>\n",
       "    <tr>\n",
       "      <th>2014</th>\n",
       "      <th>5</th>\n",
       "    </tr>\n",
       "  </tbody>\n",
       "</table>\n",
       "<p>5317 rows × 0 columns</p>\n",
       "</div>"
      ],
      "text/plain": [
       "Empty DataFrame\n",
       "Columns: []\n",
       "Index: [(AK, 1910, 14), (AK, 1911, 12), (AK, 1912, 9), (AK, 1913, 21), (AK, 1914, 22), (AK, 1915, 23), (AK, 1916, 18), (AK, 1917, 21), (AK, 1918, 27), (AK, 1919, 22), (AK, 1920, 38), (AK, 1921, 36), (AK, 1922, 29), (AK, 1923, 26), (AK, 1924, 41), (AK, 1925, 24), (AK, 1926, 39), (AK, 1927, 30), (AK, 1928, 27), (AK, 1929, 25), (AK, 1930, 35), (AK, 1931, 41), (AK, 1932, 26), (AK, 1933, 25), (AK, 1934, 31), (AK, 1935, 29), (AK, 1936, 33), (AK, 1937, 41), (AK, 1938, 37), (AK, 1939, 28), (AK, 1940, 43), (AK, 1941, 41), (AK, 1942, 43), (AK, 1943, 47), (AK, 1944, 42), (AK, 1945, 47), (AK, 1946, 47), (AK, 1947, 63), (AK, 1948, 71), (AK, 1949, 79), (AK, 1950, 71), (AK, 1951, 77), (AK, 1952, 75), (AK, 1953, 80), (AK, 1954, 93), (AK, 1955, 91), (AK, 1956, 96), (AK, 1957, 99), (AK, 1958, 84), (AK, 1959, 61), (AK, 1960, 78), (AK, 1961, 80), (AK, 1962, 86), (AK, 1963, 78), (AK, 1964, 84), (AK, 1965, 68), (AK, 1966, 67), (AK, 1967, 59), (AK, 1968, 36), (AK, 1969, 51), (AK, 1970, 47), (AK, 1971, 46), (AK, 1972, 31), (AK, 1973, 29), (AK, 1974, 35), (AK, 1975, 29), (AK, 1976, 23), (AK, 1977, 26), (AK, 1978, 29), (AK, 1979, 25), (AK, 1980, 38), (AK, 1981, 32), (AK, 1982, 29), (AK, 1983, 36), (AK, 1984, 31), (AK, 1985, 42), (AK, 1986, 27), (AK, 1987, 32), (AK, 1988, 28), (AK, 1989, 29), (AK, 1990, 27), (AK, 1991, 31), (AK, 1992, 21), (AK, 1993, 26), (AK, 1994, 21), (AK, 1995, 31), (AK, 1996, 14), (AK, 1997, 25), (AK, 1998, 19), (AK, 1999, 19), (AK, 2000, 18), (AK, 2001, 16), (AK, 2002, 16), (AK, 2003, 9), (AK, 2004, 11), (AK, 2005, 18), (AK, 2006, 9), (AK, 2007, 11), (AK, 2008, 12), (AK, 2009, 6), ...]\n",
       "\n",
       "[5317 rows x 0 columns]"
      ]
     },
     "execution_count": 39,
     "metadata": {},
     "output_type": "execute_result"
    }
   ],
   "source": [
    "frame_indexed\n",
    "frame_indexed.loc['F','Mary']\n",
    "#http://bconnelly.net/2013/10/summarizing-data-in-python-with-pandas/\n",
    "#http://pandas.pydata.org/pandas-docs/stable/groupby.html\n",
    "#http://stackoverflow.com/questions/19523277/renaming-column-names-in-pandas-groupby-function"
   ]
  },
  {
   "cell_type": "code",
   "execution_count": null,
   "metadata": {
    "collapsed": false
   },
   "outputs": [],
   "source": []
  },
  {
   "cell_type": "code",
   "execution_count": 54,
   "metadata": {
    "collapsed": false
   },
   "outputs": [
    {
     "data": {
      "text/plain": [
       "'\\nIf name and gender are in the same same year\\nadd to data frame\\n'"
      ]
     },
     "execution_count": 54,
     "metadata": {},
     "output_type": "execute_result"
    }
   ],
   "source": [
    "#frame[frame.name =='Mary']\n",
    "df = frame[(frame.sex== 'F'  ) & (frame.name=='Mary' )]\n",
    "df.head()\n",
    "#columns=['state','sex','year','name','number']\n",
    "# df.groupby(['col5','col2']).size().reset_index().groupby('col2')[[0]].max()\n",
    "\n",
    "#sers[users.age > 25].head(3)\n",
    "#https://nikolaygrozev.wordpress.com/2015/07/01/reshaping-in-pandas-pivot-pivot-table-stack-and-unstack-explained-with-pictures/\n",
    "'''\n",
    "If name and gender are in the same same year\n",
    "add to data frame\n",
    "'''"
   ]
  },
  {
   "cell_type": "code",
   "execution_count": 62,
   "metadata": {
    "collapsed": false
   },
   "outputs": [],
   "source": [
    "#frame[frame.name =='Mary']\n",
    "#users[(users.age == 40) & (users.sex == 'M')].head(3)\n",
    "def plotname1(sex,name):\n",
    "    data = df_lng[(df_lng.sex== sex  ) & (df_lng.name==name )]\n",
    "    pp.plot(data.year,data.number)"
   ]
  },
  {
   "cell_type": "code",
   "execution_count": 50,
   "metadata": {
    "collapsed": false
   },
   "outputs": [],
   "source": [
    "#frame[frame.name =='Mary']\n",
    "#users[(users.age == 40) & (users.sex == 'M')].head(3)\n",
    "def plotname(sex,name):\n",
    "    data=allyears.loc[sex,name]\n",
    "    pp.plot(data.index,data.values)"
   ]
  },
  {
   "cell_type": "code",
   "execution_count": 63,
   "metadata": {
    "collapsed": false
   },
   "outputs": [
    {
     "data": {
      "image/png": "[encoded data removed]",
      "text/plain": [
       "<matplotlib.figure.Figure at 0x5612bc18>"
      ]
     },
     "metadata": {},
     "output_type": "display_data"
    }
   ],
   "source": [
    "plotname1('F','Mary')"
   ]
  },
  {
   "cell_type": "code",
   "execution_count": 64,
   "metadata": {
    "collapsed": false
   },
   "outputs": [
    {
     "data": {
      "image/png": "[encoded data removed]",
      "text/plain": [
       "<matplotlib.figure.Figure at 0x562246a0>"
      ]
     },
     "metadata": {},
     "output_type": "display_data"
    }
   ],
   "source": [
    "plotname('F','Mary')"
   ]
  },
  {
   "cell_type": "code",
   "execution_count": 66,
   "metadata": {
    "collapsed": false
   },
   "outputs": [
    {
     "data": {
      "text/plain": [
       "<matplotlib.legend.Legend at 0x56250e80>"
      ]
     },
     "execution_count": 66,
     "metadata": {},
     "output_type": "execute_result"
    },
    {
     "data": {
      "image/png": "[encoded data removed]",
      "text/plain": [
       "<matplotlib.figure.Figure at 0x56250f28>"
      ]
     },
     "metadata": {},
     "output_type": "display_data"
    }
   ],
   "source": [
    "pp.figure(figsize=(12,2.5)) #use the apply function instead of a for loop\n",
    "names =['Michael','John','David','Martin']\n",
    "for name in names:\n",
    "    plotname1('M',name)\n",
    "pp.legend(names)\n"
   ]
  },
  {
   "cell_type": "code",
   "execution_count": 67,
   "metadata": {
    "collapsed": false
   },
   "outputs": [
    {
     "data": {
      "text/plain": [
       "<matplotlib.legend.Legend at 0x1b0e86d8>"
      ]
     },
     "execution_count": 67,
     "metadata": {},
     "output_type": "execute_result"
    },
    {
     "data": {
      "image/png": "[encoded data removed]",
      "text/plain": [
       "<matplotlib.figure.Figure at 0x1b170e10>"
      ]
     },
     "metadata": {},
     "output_type": "display_data"
    }
   ],
   "source": [
    "pp.figure(figsize=(12,2.5))\n",
    "\n",
    "names = ['Emily','Anna','Claire','Elizabeth']\n",
    "\n",
    "for name in names:\n",
    "    plotname1('F',name)\n",
    "\n",
    "pp.legend(names)"
   ]
  },
  {
   "cell_type": "code",
   "execution_count": 176,
   "metadata": {
    "collapsed": false
   },
   "outputs": [
    {
     "name": "stdout",
     "output_type": "stream",
     "text": [
      "      sex  year     name  number\n",
      "18115   M  1956   Robert     187\n",
      "18116   M  1956  Michael     164\n",
      "18117   M  1956    David     158\n",
      "18118   M  1956     John     149\n",
      "18119   M  1956    James     109\n"
     ]
    },
    {
     "data": {
      "text/plain": [
       "'\\ndef analyze(df):\\n    return pd.Series({\"nrow\": len(df), \"ncol\": len(df.columns)})\\n# rows and columns per league\\nbaseball.groupby(\"lg\").apply(analyze)\\n\\n'"
      ]
     },
     "execution_count": 176,
     "metadata": {},
     "output_type": "execute_result"
    }
   ],
   "source": [
    "#pop2008 = allyears_indexed.loc['M',:,2008].sort('number',ascending=False).head()\n",
    "data = df_lng[(df_lng.sex== 'M'  ) & (df_lng.year==2008 )].sort_values(by='number',ascending=False)\n",
    "data\n",
    "\n",
    "def top(sex,year):\n",
    "    data = df_lng[(df_lng.sex== sex  ) & (df_lng.year==year )].sort_values(by='number',ascending=False)\n",
    "    return data\n",
    "\n",
    "\n",
    "#print(top(df_lng,'M',2008))\n",
    "print(top('M',1956).head())\n",
    "\n",
    "\n",
    "'''\n",
    "def analyze(df):\n",
    "    return pd.Series({\"nrow\": len(df), \"ncol\": len(df.columns)})\n",
    "# rows and columns per league\n",
    "baseball.groupby(\"lg\").apply(analyze)\n",
    "\n",
    "'''"
   ]
  },
  {
   "cell_type": "code",
   "execution_count": 177,
   "metadata": {
    "collapsed": true
   },
   "outputs": [],
   "source": [
    "def toptens(sex,year0,year1):\n",
    "    years = [top(sex,year) for year in range(year0,year1+1)]\n",
    "    \n",
    "    return years[0].join(years[1:])"
   ]
  },
  {
   "cell_type": "code",
   "execution_count": 178,
   "metadata": {
    "collapsed": false
   },
   "outputs": [
    {
     "ename": "ValueError",
     "evalue": "Indexes have overlapping values: ['name', 'number', 'sex', 'year']",
     "output_type": "error",
     "traceback": [
      "\u001b[1;31m---------------------------------------------------------------------------\u001b[0m",
      "\u001b[1;31mValueError\u001b[0m                                Traceback (most recent call last)",
      "\u001b[1;32m<ipython-input-178-d6dbdbf9574d>\u001b[0m in \u001b[0;36m<module>\u001b[1;34m()\u001b[0m\n\u001b[1;32m----> 1\u001b[1;33m \u001b[0mtoptens\u001b[0m\u001b[1;33m(\u001b[0m\u001b[1;34m'M'\u001b[0m\u001b[1;33m,\u001b[0m\u001b[1;36m2000\u001b[0m\u001b[1;33m,\u001b[0m\u001b[1;36m2010\u001b[0m\u001b[1;33m)\u001b[0m\u001b[1;33m\u001b[0m\u001b[0m\n\u001b[0m",
      "\u001b[1;32m<ipython-input-177-cec0a041bdaf>\u001b[0m in \u001b[0;36mtoptens\u001b[1;34m(sex, year0, year1)\u001b[0m\n\u001b[0;32m      2\u001b[0m     \u001b[0myears\u001b[0m \u001b[1;33m=\u001b[0m \u001b[1;33m[\u001b[0m\u001b[0mtop\u001b[0m\u001b[1;33m(\u001b[0m\u001b[0msex\u001b[0m\u001b[1;33m,\u001b[0m\u001b[0myear\u001b[0m\u001b[1;33m)\u001b[0m \u001b[1;32mfor\u001b[0m \u001b[0myear\u001b[0m \u001b[1;32min\u001b[0m \u001b[0mrange\u001b[0m\u001b[1;33m(\u001b[0m\u001b[0myear0\u001b[0m\u001b[1;33m,\u001b[0m\u001b[0myear1\u001b[0m\u001b[1;33m+\u001b[0m\u001b[1;36m1\u001b[0m\u001b[1;33m)\u001b[0m\u001b[1;33m]\u001b[0m\u001b[1;33m\u001b[0m\u001b[0m\n\u001b[0;32m      3\u001b[0m \u001b[1;33m\u001b[0m\u001b[0m\n\u001b[1;32m----> 4\u001b[1;33m     \u001b[1;32mreturn\u001b[0m \u001b[0myears\u001b[0m\u001b[1;33m[\u001b[0m\u001b[1;36m0\u001b[0m\u001b[1;33m]\u001b[0m\u001b[1;33m.\u001b[0m\u001b[0mjoin\u001b[0m\u001b[1;33m(\u001b[0m\u001b[0myears\u001b[0m\u001b[1;33m[\u001b[0m\u001b[1;36m1\u001b[0m\u001b[1;33m:\u001b[0m\u001b[1;33m]\u001b[0m\u001b[1;33m)\u001b[0m\u001b[1;33m\u001b[0m\u001b[0m\n\u001b[0m",
      "\u001b[1;32mD:\\conda1\\lib\\site-packages\\pandas\\core\\frame.py\u001b[0m in \u001b[0;36mjoin\u001b[1;34m(self, other, on, how, lsuffix, rsuffix, sort)\u001b[0m\n\u001b[0;32m   4218\u001b[0m         \u001b[1;31m# For SparseDataFrame's benefit\u001b[0m\u001b[1;33m\u001b[0m\u001b[1;33m\u001b[0m\u001b[0m\n\u001b[0;32m   4219\u001b[0m         return self._join_compat(other, on=on, how=how, lsuffix=lsuffix,\n\u001b[1;32m-> 4220\u001b[1;33m                                  rsuffix=rsuffix, sort=sort)\n\u001b[0m\u001b[0;32m   4221\u001b[0m \u001b[1;33m\u001b[0m\u001b[0m\n\u001b[0;32m   4222\u001b[0m     def _join_compat(self, other, on=None, how='left', lsuffix='', rsuffix='',\n",
      "\u001b[1;32mD:\\conda1\\lib\\site-packages\\pandas\\core\\frame.py\u001b[0m in \u001b[0;36m_join_compat\u001b[1;34m(self, other, on, how, lsuffix, rsuffix, sort)\u001b[0m\n\u001b[0;32m   4251\u001b[0m             \u001b[1;32mif\u001b[0m \u001b[0mcan_concat\u001b[0m\u001b[1;33m:\u001b[0m\u001b[1;33m\u001b[0m\u001b[0m\n\u001b[0;32m   4252\u001b[0m                 return concat(frames, axis=1, join=how, join_axes=join_axes,\n\u001b[1;32m-> 4253\u001b[1;33m                               verify_integrity=True)\n\u001b[0m\u001b[0;32m   4254\u001b[0m \u001b[1;33m\u001b[0m\u001b[0m\n\u001b[0;32m   4255\u001b[0m             \u001b[0mjoined\u001b[0m \u001b[1;33m=\u001b[0m \u001b[0mframes\u001b[0m\u001b[1;33m[\u001b[0m\u001b[1;36m0\u001b[0m\u001b[1;33m]\u001b[0m\u001b[1;33m\u001b[0m\u001b[0m\n",
      "\u001b[1;32mD:\\conda1\\lib\\site-packages\\pandas\\tools\\merge.py\u001b[0m in \u001b[0;36mconcat\u001b[1;34m(objs, axis, join, join_axes, ignore_index, keys, levels, names, verify_integrity, copy)\u001b[0m\n\u001b[0;32m    807\u001b[0m                        \u001b[0mkeys\u001b[0m\u001b[1;33m=\u001b[0m\u001b[0mkeys\u001b[0m\u001b[1;33m,\u001b[0m \u001b[0mlevels\u001b[0m\u001b[1;33m=\u001b[0m\u001b[0mlevels\u001b[0m\u001b[1;33m,\u001b[0m \u001b[0mnames\u001b[0m\u001b[1;33m=\u001b[0m\u001b[0mnames\u001b[0m\u001b[1;33m,\u001b[0m\u001b[1;33m\u001b[0m\u001b[0m\n\u001b[0;32m    808\u001b[0m                        \u001b[0mverify_integrity\u001b[0m\u001b[1;33m=\u001b[0m\u001b[0mverify_integrity\u001b[0m\u001b[1;33m,\u001b[0m\u001b[1;33m\u001b[0m\u001b[0m\n\u001b[1;32m--> 809\u001b[1;33m                        copy=copy)\n\u001b[0m\u001b[0;32m    810\u001b[0m     \u001b[1;32mreturn\u001b[0m \u001b[0mop\u001b[0m\u001b[1;33m.\u001b[0m\u001b[0mget_result\u001b[0m\u001b[1;33m(\u001b[0m\u001b[1;33m)\u001b[0m\u001b[1;33m\u001b[0m\u001b[0m\n\u001b[0;32m    811\u001b[0m \u001b[1;33m\u001b[0m\u001b[0m\n",
      "\u001b[1;32mD:\\conda1\\lib\\site-packages\\pandas\\tools\\merge.py\u001b[0m in \u001b[0;36m__init__\u001b[1;34m(self, objs, axis, join, join_axes, keys, levels, names, ignore_index, verify_integrity, copy)\u001b[0m\n\u001b[0;32m    944\u001b[0m         \u001b[0mself\u001b[0m\u001b[1;33m.\u001b[0m\u001b[0mcopy\u001b[0m \u001b[1;33m=\u001b[0m \u001b[0mcopy\u001b[0m\u001b[1;33m\u001b[0m\u001b[0m\n\u001b[0;32m    945\u001b[0m \u001b[1;33m\u001b[0m\u001b[0m\n\u001b[1;32m--> 946\u001b[1;33m         \u001b[0mself\u001b[0m\u001b[1;33m.\u001b[0m\u001b[0mnew_axes\u001b[0m \u001b[1;33m=\u001b[0m \u001b[0mself\u001b[0m\u001b[1;33m.\u001b[0m\u001b[0m_get_new_axes\u001b[0m\u001b[1;33m(\u001b[0m\u001b[1;33m)\u001b[0m\u001b[1;33m\u001b[0m\u001b[0m\n\u001b[0m\u001b[0;32m    947\u001b[0m \u001b[1;33m\u001b[0m\u001b[0m\n\u001b[0;32m    948\u001b[0m     \u001b[1;32mdef\u001b[0m \u001b[0mget_result\u001b[0m\u001b[1;33m(\u001b[0m\u001b[0mself\u001b[0m\u001b[1;33m)\u001b[0m\u001b[1;33m:\u001b[0m\u001b[1;33m\u001b[0m\u001b[0m\n",
      "\u001b[1;32mD:\\conda1\\lib\\site-packages\\pandas\\tools\\merge.py\u001b[0m in \u001b[0;36m_get_new_axes\u001b[1;34m(self)\u001b[0m\n\u001b[0;32m   1023\u001b[0m                 \u001b[0mnew_axes\u001b[0m\u001b[1;33m[\u001b[0m\u001b[0mi\u001b[0m\u001b[1;33m]\u001b[0m \u001b[1;33m=\u001b[0m \u001b[0max\u001b[0m\u001b[1;33m\u001b[0m\u001b[0m\n\u001b[0;32m   1024\u001b[0m \u001b[1;33m\u001b[0m\u001b[0m\n\u001b[1;32m-> 1025\u001b[1;33m         \u001b[0mnew_axes\u001b[0m\u001b[1;33m[\u001b[0m\u001b[0mself\u001b[0m\u001b[1;33m.\u001b[0m\u001b[0maxis\u001b[0m\u001b[1;33m]\u001b[0m \u001b[1;33m=\u001b[0m \u001b[0mself\u001b[0m\u001b[1;33m.\u001b[0m\u001b[0m_get_concat_axis\u001b[0m\u001b[1;33m(\u001b[0m\u001b[1;33m)\u001b[0m\u001b[1;33m\u001b[0m\u001b[0m\n\u001b[0m\u001b[0;32m   1026\u001b[0m         \u001b[1;32mreturn\u001b[0m \u001b[0mnew_axes\u001b[0m\u001b[1;33m\u001b[0m\u001b[0m\n\u001b[0;32m   1027\u001b[0m \u001b[1;33m\u001b[0m\u001b[0m\n",
      "\u001b[1;32mD:\\conda1\\lib\\site-packages\\pandas\\tools\\merge.py\u001b[0m in \u001b[0;36m_get_concat_axis\u001b[1;34m(self)\u001b[0m\n\u001b[0;32m   1080\u001b[0m                                                   self.levels, self.names)\n\u001b[0;32m   1081\u001b[0m \u001b[1;33m\u001b[0m\u001b[0m\n\u001b[1;32m-> 1082\u001b[1;33m         \u001b[0mself\u001b[0m\u001b[1;33m.\u001b[0m\u001b[0m_maybe_check_integrity\u001b[0m\u001b[1;33m(\u001b[0m\u001b[0mconcat_axis\u001b[0m\u001b[1;33m)\u001b[0m\u001b[1;33m\u001b[0m\u001b[0m\n\u001b[0m\u001b[0;32m   1083\u001b[0m \u001b[1;33m\u001b[0m\u001b[0m\n\u001b[0;32m   1084\u001b[0m         \u001b[1;32mreturn\u001b[0m \u001b[0mconcat_axis\u001b[0m\u001b[1;33m\u001b[0m\u001b[0m\n",
      "\u001b[1;32mD:\\conda1\\lib\\site-packages\\pandas\\tools\\merge.py\u001b[0m in \u001b[0;36m_maybe_check_integrity\u001b[1;34m(self, concat_index)\u001b[0m\n\u001b[0;32m   1089\u001b[0m                 \u001b[0moverlap\u001b[0m \u001b[1;33m=\u001b[0m \u001b[0mconcat_index\u001b[0m\u001b[1;33m.\u001b[0m\u001b[0mget_duplicates\u001b[0m\u001b[1;33m(\u001b[0m\u001b[1;33m)\u001b[0m\u001b[1;33m\u001b[0m\u001b[0m\n\u001b[0;32m   1090\u001b[0m                 raise ValueError('Indexes have overlapping values: %s'\n\u001b[1;32m-> 1091\u001b[1;33m                                 % str(overlap))\n\u001b[0m\u001b[0;32m   1092\u001b[0m \u001b[1;33m\u001b[0m\u001b[0m\n\u001b[0;32m   1093\u001b[0m \u001b[1;33m\u001b[0m\u001b[0m\n",
      "\u001b[1;31mValueError\u001b[0m: Indexes have overlapping values: ['name', 'number', 'sex', 'year']"
     ]
    }
   ],
   "source": [
    "toptens('M',2000,2010)"
   ]
  },
  {
   "cell_type": "code",
   "execution_count": 179,
   "metadata": {
    "collapsed": false
   },
   "outputs": [
    {
     "ename": "SyntaxError",
     "evalue": "invalid syntax (<ipython-input-179-d62398e15480>, line 5)",
     "output_type": "error",
     "traceback": [
      "\u001b[1;36m  File \u001b[1;32m\"<ipython-input-179-d62398e15480>\"\u001b[1;36m, line \u001b[1;32m5\u001b[0m\n\u001b[1;33m    data = df_lng[(df_lng.sex== sex  ) & (df_lng.year==year )].sort_values(by='number',ascending=False)\u001b[0m\n\u001b[1;37m       ^\u001b[0m\n\u001b[1;31mSyntaxError\u001b[0m\u001b[1;31m:\u001b[0m invalid syntax\n"
     ]
    }
   ],
   "source": [
    "#toptens('M',2000,2010)\n",
    "def top1(sex,year):\n",
    "    years = [top(sex,year) for year in range(year0,year1+1)]\n",
    "    return years[0].join(years[1:]\n",
    "    data = df_lng[(df_lng.sex== sex  ) & (df_lng.year==year )].sort_values(by='number',ascending=False)\n",
    "    \n",
    "    return data\n",
    "\n",
    "for year in range(2000,2009):\n",
    "         print(top('M',year).head())\n"
   ]
  },
  {
   "cell_type": "code",
   "execution_count": null,
   "metadata": {
    "collapsed": true
   },
   "outputs": [],
   "source": []
  },
  {
   "cell_type": "code",
   "execution_count": 106,
   "metadata": {
    "collapsed": false
   },
   "outputs": [
    {
     "data": {
      "text/plain": [
       "229"
      ]
     },
     "execution_count": 106,
     "metadata": {},
     "output_type": "execute_result"
    }
   ],
   "source": [
    "max(df_lng['number'])"
   ]
  },
  {
   "cell_type": "code",
   "execution_count": 107,
   "metadata": {
    "collapsed": false
   },
   "outputs": [
    {
     "data": {
      "text/html": [
       "<div>\n",
       "<table border=\"1\" class=\"dataframe\">\n",
       "  <thead>\n",
       "    <tr style=\"text-align: right;\">\n",
       "      <th></th>\n",
       "      <th>sex</th>\n",
       "      <th>year</th>\n",
       "      <th>name</th>\n",
       "      <th>number</th>\n",
       "    </tr>\n",
       "  </thead>\n",
       "  <tbody>\n",
       "    <tr>\n",
       "      <th>3764</th>\n",
       "      <td>F</td>\n",
       "      <td>1948</td>\n",
       "      <td>Linda</td>\n",
       "      <td>229</td>\n",
       "    </tr>\n",
       "  </tbody>\n",
       "</table>\n",
       "</div>"
      ],
      "text/plain": [
       "     sex  year   name  number\n",
       "3764   F  1948  Linda     229"
      ]
     },
     "execution_count": 107,
     "metadata": {},
     "output_type": "execute_result"
    }
   ],
   "source": [
    "df_lng[(df_lng.number== 229  )]\n"
   ]
  },
  {
   "cell_type": "code",
   "execution_count": 108,
   "metadata": {
    "collapsed": false
   },
   "outputs": [
    {
     "data": {
      "text/html": [
       "<div>\n",
       "<table border=\"1\" class=\"dataframe\">\n",
       "  <thead>\n",
       "    <tr style=\"text-align: right;\">\n",
       "      <th></th>\n",
       "      <th>sex</th>\n",
       "      <th>year</th>\n",
       "      <th>name</th>\n",
       "      <th>number</th>\n",
       "    </tr>\n",
       "  </thead>\n",
       "  <tbody>\n",
       "    <tr>\n",
       "      <th>12</th>\n",
       "      <td>F</td>\n",
       "      <td>1910</td>\n",
       "      <td>Ann</td>\n",
       "      <td>5</td>\n",
       "    </tr>\n",
       "    <tr>\n",
       "      <th>13</th>\n",
       "      <td>F</td>\n",
       "      <td>1910</td>\n",
       "      <td>Catherine</td>\n",
       "      <td>5</td>\n",
       "    </tr>\n",
       "    <tr>\n",
       "      <th>14</th>\n",
       "      <td>F</td>\n",
       "      <td>1910</td>\n",
       "      <td>Doris</td>\n",
       "      <td>5</td>\n",
       "    </tr>\n",
       "    <tr>\n",
       "      <th>15</th>\n",
       "      <td>F</td>\n",
       "      <td>1910</td>\n",
       "      <td>Elizabeth</td>\n",
       "      <td>5</td>\n",
       "    </tr>\n",
       "    <tr>\n",
       "      <th>16</th>\n",
       "      <td>F</td>\n",
       "      <td>1910</td>\n",
       "      <td>Eva</td>\n",
       "      <td>5</td>\n",
       "    </tr>\n",
       "    <tr>\n",
       "      <th>17</th>\n",
       "      <td>F</td>\n",
       "      <td>1910</td>\n",
       "      <td>Hazel</td>\n",
       "      <td>5</td>\n",
       "    </tr>\n",
       "    <tr>\n",
       "      <th>18</th>\n",
       "      <td>F</td>\n",
       "      <td>1910</td>\n",
       "      <td>Louise</td>\n",
       "      <td>5</td>\n",
       "    </tr>\n",
       "    <tr>\n",
       "      <th>19</th>\n",
       "      <td>F</td>\n",
       "      <td>1910</td>\n",
       "      <td>Lucille</td>\n",
       "      <td>5</td>\n",
       "    </tr>\n",
       "    <tr>\n",
       "      <th>20</th>\n",
       "      <td>F</td>\n",
       "      <td>1910</td>\n",
       "      <td>Pearl</td>\n",
       "      <td>5</td>\n",
       "    </tr>\n",
       "    <tr>\n",
       "      <th>21</th>\n",
       "      <td>F</td>\n",
       "      <td>1910</td>\n",
       "      <td>Thelma</td>\n",
       "      <td>5</td>\n",
       "    </tr>\n",
       "    <tr>\n",
       "      <th>22</th>\n",
       "      <td>F</td>\n",
       "      <td>1910</td>\n",
       "      <td>Vera</td>\n",
       "      <td>5</td>\n",
       "    </tr>\n",
       "    <tr>\n",
       "      <th>43</th>\n",
       "      <td>F</td>\n",
       "      <td>1911</td>\n",
       "      <td>Agnes</td>\n",
       "      <td>5</td>\n",
       "    </tr>\n",
       "    <tr>\n",
       "      <th>44</th>\n",
       "      <td>F</td>\n",
       "      <td>1911</td>\n",
       "      <td>Ellen</td>\n",
       "      <td>5</td>\n",
       "    </tr>\n",
       "    <tr>\n",
       "      <th>45</th>\n",
       "      <td>F</td>\n",
       "      <td>1911</td>\n",
       "      <td>Gertrude</td>\n",
       "      <td>5</td>\n",
       "    </tr>\n",
       "    <tr>\n",
       "      <th>46</th>\n",
       "      <td>F</td>\n",
       "      <td>1911</td>\n",
       "      <td>Gladys</td>\n",
       "      <td>5</td>\n",
       "    </tr>\n",
       "    <tr>\n",
       "      <th>47</th>\n",
       "      <td>F</td>\n",
       "      <td>1911</td>\n",
       "      <td>Ida</td>\n",
       "      <td>5</td>\n",
       "    </tr>\n",
       "    <tr>\n",
       "      <th>48</th>\n",
       "      <td>F</td>\n",
       "      <td>1911</td>\n",
       "      <td>Lucille</td>\n",
       "      <td>5</td>\n",
       "    </tr>\n",
       "    <tr>\n",
       "      <th>49</th>\n",
       "      <td>F</td>\n",
       "      <td>1911</td>\n",
       "      <td>Ruby</td>\n",
       "      <td>5</td>\n",
       "    </tr>\n",
       "    <tr>\n",
       "      <th>78</th>\n",
       "      <td>F</td>\n",
       "      <td>1912</td>\n",
       "      <td>Edith</td>\n",
       "      <td>5</td>\n",
       "    </tr>\n",
       "    <tr>\n",
       "      <th>79</th>\n",
       "      <td>F</td>\n",
       "      <td>1912</td>\n",
       "      <td>Lillian</td>\n",
       "      <td>5</td>\n",
       "    </tr>\n",
       "    <tr>\n",
       "      <th>80</th>\n",
       "      <td>F</td>\n",
       "      <td>1912</td>\n",
       "      <td>Marjorie</td>\n",
       "      <td>5</td>\n",
       "    </tr>\n",
       "    <tr>\n",
       "      <th>115</th>\n",
       "      <td>F</td>\n",
       "      <td>1913</td>\n",
       "      <td>Anne</td>\n",
       "      <td>5</td>\n",
       "    </tr>\n",
       "    <tr>\n",
       "      <th>116</th>\n",
       "      <td>F</td>\n",
       "      <td>1913</td>\n",
       "      <td>Beatrice</td>\n",
       "      <td>5</td>\n",
       "    </tr>\n",
       "    <tr>\n",
       "      <th>117</th>\n",
       "      <td>F</td>\n",
       "      <td>1913</td>\n",
       "      <td>Blanche</td>\n",
       "      <td>5</td>\n",
       "    </tr>\n",
       "    <tr>\n",
       "      <th>118</th>\n",
       "      <td>F</td>\n",
       "      <td>1913</td>\n",
       "      <td>Catherine</td>\n",
       "      <td>5</td>\n",
       "    </tr>\n",
       "    <tr>\n",
       "      <th>119</th>\n",
       "      <td>F</td>\n",
       "      <td>1913</td>\n",
       "      <td>Ellen</td>\n",
       "      <td>5</td>\n",
       "    </tr>\n",
       "    <tr>\n",
       "      <th>120</th>\n",
       "      <td>F</td>\n",
       "      <td>1913</td>\n",
       "      <td>Emma</td>\n",
       "      <td>5</td>\n",
       "    </tr>\n",
       "    <tr>\n",
       "      <th>121</th>\n",
       "      <td>F</td>\n",
       "      <td>1913</td>\n",
       "      <td>Esther</td>\n",
       "      <td>5</td>\n",
       "    </tr>\n",
       "    <tr>\n",
       "      <th>122</th>\n",
       "      <td>F</td>\n",
       "      <td>1913</td>\n",
       "      <td>Evelyn</td>\n",
       "      <td>5</td>\n",
       "    </tr>\n",
       "    <tr>\n",
       "      <th>123</th>\n",
       "      <td>F</td>\n",
       "      <td>1913</td>\n",
       "      <td>Flora</td>\n",
       "      <td>5</td>\n",
       "    </tr>\n",
       "    <tr>\n",
       "      <th>...</th>\n",
       "      <td>...</td>\n",
       "      <td>...</td>\n",
       "      <td>...</td>\n",
       "      <td>...</td>\n",
       "    </tr>\n",
       "    <tr>\n",
       "      <th>26884</th>\n",
       "      <td>M</td>\n",
       "      <td>2014</td>\n",
       "      <td>Brooks</td>\n",
       "      <td>5</td>\n",
       "    </tr>\n",
       "    <tr>\n",
       "      <th>26885</th>\n",
       "      <td>M</td>\n",
       "      <td>2014</td>\n",
       "      <td>Calvin</td>\n",
       "      <td>5</td>\n",
       "    </tr>\n",
       "    <tr>\n",
       "      <th>26886</th>\n",
       "      <td>M</td>\n",
       "      <td>2014</td>\n",
       "      <td>Cameron</td>\n",
       "      <td>5</td>\n",
       "    </tr>\n",
       "    <tr>\n",
       "      <th>26887</th>\n",
       "      <td>M</td>\n",
       "      <td>2014</td>\n",
       "      <td>Dalton</td>\n",
       "      <td>5</td>\n",
       "    </tr>\n",
       "    <tr>\n",
       "      <th>26888</th>\n",
       "      <td>M</td>\n",
       "      <td>2014</td>\n",
       "      <td>Dawson</td>\n",
       "      <td>5</td>\n",
       "    </tr>\n",
       "    <tr>\n",
       "      <th>26889</th>\n",
       "      <td>M</td>\n",
       "      <td>2014</td>\n",
       "      <td>Edward</td>\n",
       "      <td>5</td>\n",
       "    </tr>\n",
       "    <tr>\n",
       "      <th>26890</th>\n",
       "      <td>M</td>\n",
       "      <td>2014</td>\n",
       "      <td>Elias</td>\n",
       "      <td>5</td>\n",
       "    </tr>\n",
       "    <tr>\n",
       "      <th>26891</th>\n",
       "      <td>M</td>\n",
       "      <td>2014</td>\n",
       "      <td>Gage</td>\n",
       "      <td>5</td>\n",
       "    </tr>\n",
       "    <tr>\n",
       "      <th>26892</th>\n",
       "      <td>M</td>\n",
       "      <td>2014</td>\n",
       "      <td>Hayden</td>\n",
       "      <td>5</td>\n",
       "    </tr>\n",
       "    <tr>\n",
       "      <th>26893</th>\n",
       "      <td>M</td>\n",
       "      <td>2014</td>\n",
       "      <td>Jasper</td>\n",
       "      <td>5</td>\n",
       "    </tr>\n",
       "    <tr>\n",
       "      <th>26894</th>\n",
       "      <td>M</td>\n",
       "      <td>2014</td>\n",
       "      <td>Jose</td>\n",
       "      <td>5</td>\n",
       "    </tr>\n",
       "    <tr>\n",
       "      <th>26895</th>\n",
       "      <td>M</td>\n",
       "      <td>2014</td>\n",
       "      <td>Kaiden</td>\n",
       "      <td>5</td>\n",
       "    </tr>\n",
       "    <tr>\n",
       "      <th>26896</th>\n",
       "      <td>M</td>\n",
       "      <td>2014</td>\n",
       "      <td>Kaleb</td>\n",
       "      <td>5</td>\n",
       "    </tr>\n",
       "    <tr>\n",
       "      <th>26897</th>\n",
       "      <td>M</td>\n",
       "      <td>2014</td>\n",
       "      <td>Kasen</td>\n",
       "      <td>5</td>\n",
       "    </tr>\n",
       "    <tr>\n",
       "      <th>26898</th>\n",
       "      <td>M</td>\n",
       "      <td>2014</td>\n",
       "      <td>Kyson</td>\n",
       "      <td>5</td>\n",
       "    </tr>\n",
       "    <tr>\n",
       "      <th>26899</th>\n",
       "      <td>M</td>\n",
       "      <td>2014</td>\n",
       "      <td>Lukas</td>\n",
       "      <td>5</td>\n",
       "    </tr>\n",
       "    <tr>\n",
       "      <th>26900</th>\n",
       "      <td>M</td>\n",
       "      <td>2014</td>\n",
       "      <td>Myles</td>\n",
       "      <td>5</td>\n",
       "    </tr>\n",
       "    <tr>\n",
       "      <th>26901</th>\n",
       "      <td>M</td>\n",
       "      <td>2014</td>\n",
       "      <td>Nathaniel</td>\n",
       "      <td>5</td>\n",
       "    </tr>\n",
       "    <tr>\n",
       "      <th>26902</th>\n",
       "      <td>M</td>\n",
       "      <td>2014</td>\n",
       "      <td>Nolan</td>\n",
       "      <td>5</td>\n",
       "    </tr>\n",
       "    <tr>\n",
       "      <th>26903</th>\n",
       "      <td>M</td>\n",
       "      <td>2014</td>\n",
       "      <td>Oakley</td>\n",
       "      <td>5</td>\n",
       "    </tr>\n",
       "    <tr>\n",
       "      <th>26904</th>\n",
       "      <td>M</td>\n",
       "      <td>2014</td>\n",
       "      <td>Odin</td>\n",
       "      <td>5</td>\n",
       "    </tr>\n",
       "    <tr>\n",
       "      <th>26905</th>\n",
       "      <td>M</td>\n",
       "      <td>2014</td>\n",
       "      <td>Paxton</td>\n",
       "      <td>5</td>\n",
       "    </tr>\n",
       "    <tr>\n",
       "      <th>26906</th>\n",
       "      <td>M</td>\n",
       "      <td>2014</td>\n",
       "      <td>Raymond</td>\n",
       "      <td>5</td>\n",
       "    </tr>\n",
       "    <tr>\n",
       "      <th>26907</th>\n",
       "      <td>M</td>\n",
       "      <td>2014</td>\n",
       "      <td>Richard</td>\n",
       "      <td>5</td>\n",
       "    </tr>\n",
       "    <tr>\n",
       "      <th>26908</th>\n",
       "      <td>M</td>\n",
       "      <td>2014</td>\n",
       "      <td>Rowan</td>\n",
       "      <td>5</td>\n",
       "    </tr>\n",
       "    <tr>\n",
       "      <th>26909</th>\n",
       "      <td>M</td>\n",
       "      <td>2014</td>\n",
       "      <td>Seth</td>\n",
       "      <td>5</td>\n",
       "    </tr>\n",
       "    <tr>\n",
       "      <th>26910</th>\n",
       "      <td>M</td>\n",
       "      <td>2014</td>\n",
       "      <td>Spencer</td>\n",
       "      <td>5</td>\n",
       "    </tr>\n",
       "    <tr>\n",
       "      <th>26911</th>\n",
       "      <td>M</td>\n",
       "      <td>2014</td>\n",
       "      <td>Tyce</td>\n",
       "      <td>5</td>\n",
       "    </tr>\n",
       "    <tr>\n",
       "      <th>26912</th>\n",
       "      <td>M</td>\n",
       "      <td>2014</td>\n",
       "      <td>Victor</td>\n",
       "      <td>5</td>\n",
       "    </tr>\n",
       "    <tr>\n",
       "      <th>26913</th>\n",
       "      <td>M</td>\n",
       "      <td>2014</td>\n",
       "      <td>Waylon</td>\n",
       "      <td>5</td>\n",
       "    </tr>\n",
       "  </tbody>\n",
       "</table>\n",
       "<p>4306 rows × 4 columns</p>\n",
       "</div>"
      ],
      "text/plain": [
       "      sex  year       name  number\n",
       "12      F  1910        Ann       5\n",
       "13      F  1910  Catherine       5\n",
       "14      F  1910      Doris       5\n",
       "15      F  1910  Elizabeth       5\n",
       "16      F  1910        Eva       5\n",
       "17      F  1910      Hazel       5\n",
       "18      F  1910     Louise       5\n",
       "19      F  1910    Lucille       5\n",
       "20      F  1910      Pearl       5\n",
       "21      F  1910     Thelma       5\n",
       "22      F  1910       Vera       5\n",
       "43      F  1911      Agnes       5\n",
       "44      F  1911      Ellen       5\n",
       "45      F  1911   Gertrude       5\n",
       "46      F  1911     Gladys       5\n",
       "47      F  1911        Ida       5\n",
       "48      F  1911    Lucille       5\n",
       "49      F  1911       Ruby       5\n",
       "78      F  1912      Edith       5\n",
       "79      F  1912    Lillian       5\n",
       "80      F  1912   Marjorie       5\n",
       "115     F  1913       Anne       5\n",
       "116     F  1913   Beatrice       5\n",
       "117     F  1913    Blanche       5\n",
       "118     F  1913  Catherine       5\n",
       "119     F  1913      Ellen       5\n",
       "120     F  1913       Emma       5\n",
       "121     F  1913     Esther       5\n",
       "122     F  1913     Evelyn       5\n",
       "123     F  1913      Flora       5\n",
       "...    ..   ...        ...     ...\n",
       "26884   M  2014     Brooks       5\n",
       "26885   M  2014     Calvin       5\n",
       "26886   M  2014    Cameron       5\n",
       "26887   M  2014     Dalton       5\n",
       "26888   M  2014     Dawson       5\n",
       "26889   M  2014     Edward       5\n",
       "26890   M  2014      Elias       5\n",
       "26891   M  2014       Gage       5\n",
       "26892   M  2014     Hayden       5\n",
       "26893   M  2014     Jasper       5\n",
       "26894   M  2014       Jose       5\n",
       "26895   M  2014     Kaiden       5\n",
       "26896   M  2014      Kaleb       5\n",
       "26897   M  2014      Kasen       5\n",
       "26898   M  2014      Kyson       5\n",
       "26899   M  2014      Lukas       5\n",
       "26900   M  2014      Myles       5\n",
       "26901   M  2014  Nathaniel       5\n",
       "26902   M  2014      Nolan       5\n",
       "26903   M  2014     Oakley       5\n",
       "26904   M  2014       Odin       5\n",
       "26905   M  2014     Paxton       5\n",
       "26906   M  2014    Raymond       5\n",
       "26907   M  2014    Richard       5\n",
       "26908   M  2014      Rowan       5\n",
       "26909   M  2014       Seth       5\n",
       "26910   M  2014    Spencer       5\n",
       "26911   M  2014       Tyce       5\n",
       "26912   M  2014     Victor       5\n",
       "26913   M  2014     Waylon       5\n",
       "\n",
       "[4306 rows x 4 columns]"
      ]
     },
     "execution_count": 108,
     "metadata": {},
     "output_type": "execute_result"
    }
   ],
   "source": [
    "df_lng[(df_lng.number== min(df_lng['number']) )]\n"
   ]
  },
  {
   "cell_type": "code",
   "execution_count": 112,
   "metadata": {
    "collapsed": false
   },
   "outputs": [],
   "source": [
    "totals = df_lng.groupby(['sex','name'])['number'].sum()"
   ]
  },
  {
   "cell_type": "code",
   "execution_count": 120,
   "metadata": {
    "collapsed": false
   },
   "outputs": [
    {
     "data": {
      "text/plain": [
       "sex  name      \n",
       "F    Aaliyah         37\n",
       "     Abby            99\n",
       "     Abigail        493\n",
       "     Abigale          5\n",
       "     Abigayle         5\n",
       "     Ada             17\n",
       "     Adalyn          12\n",
       "     Adalynn         18\n",
       "     Addison        206\n",
       "     Addyson         13\n",
       "     Adeline          5\n",
       "     Adelyn          10\n",
       "     Adriana         26\n",
       "     Adrianna         5\n",
       "     Adrienne        24\n",
       "     Afton           10\n",
       "     Agnes          119\n",
       "     Aimee           62\n",
       "     Ainsley          5\n",
       "     Alana           18\n",
       "     Alayna           5\n",
       "     Alberta         26\n",
       "     Alexa           81\n",
       "     Alexandra      198\n",
       "     Alexandria     132\n",
       "     Alexia          25\n",
       "     Alexis         566\n",
       "     Alexus           5\n",
       "     Ali              5\n",
       "     Alice          937\n",
       "                   ... \n",
       "M    Vernon         263\n",
       "     Victor         257\n",
       "     Vincent        246\n",
       "     Virgil          28\n",
       "     Wade           174\n",
       "     Walker           6\n",
       "     Wallace         21\n",
       "     Walter         692\n",
       "     Warren         245\n",
       "     Waylon          10\n",
       "     Wayne          789\n",
       "     Wesley         450\n",
       "     Weston          95\n",
       "     Wilbur          41\n",
       "     Willard         34\n",
       "     William       6570\n",
       "     Willie           5\n",
       "     Willis          16\n",
       "     Woodrow         14\n",
       "     Wyatt          525\n",
       "     Xander          58\n",
       "     Xavier         103\n",
       "     Zachariah       29\n",
       "     Zachary       1007\n",
       "     Zachery          7\n",
       "     Zackary         11\n",
       "     Zander          37\n",
       "     Zane           142\n",
       "     Zayden          11\n",
       "     Zayne            5\n",
       "Name: number, dtype: int64"
      ]
     },
     "execution_count": 120,
     "metadata": {},
     "output_type": "execute_result"
    }
   ],
   "source": [
    "totals"
   ]
  },
  {
   "cell_type": "code",
   "execution_count": 113,
   "metadata": {
    "collapsed": false
   },
   "outputs": [
    {
     "data": {
      "text/html": [
       "<div>\n",
       "<table border=\"1\" class=\"dataframe\">\n",
       "  <thead>\n",
       "    <tr style=\"text-align: right;\">\n",
       "      <th>sex</th>\n",
       "      <th>F</th>\n",
       "      <th>M</th>\n",
       "    </tr>\n",
       "    <tr>\n",
       "      <th>name</th>\n",
       "      <th></th>\n",
       "      <th></th>\n",
       "    </tr>\n",
       "  </thead>\n",
       "  <tbody>\n",
       "    <tr>\n",
       "      <th>Aaliyah</th>\n",
       "      <td>37</td>\n",
       "      <td>NaN</td>\n",
       "    </tr>\n",
       "    <tr>\n",
       "      <th>Aaron</th>\n",
       "      <td>NaN</td>\n",
       "      <td>1106</td>\n",
       "    </tr>\n",
       "    <tr>\n",
       "      <th>Abby</th>\n",
       "      <td>99</td>\n",
       "      <td>NaN</td>\n",
       "    </tr>\n",
       "    <tr>\n",
       "      <th>Abel</th>\n",
       "      <td>NaN</td>\n",
       "      <td>22</td>\n",
       "    </tr>\n",
       "    <tr>\n",
       "      <th>Abigail</th>\n",
       "      <td>493</td>\n",
       "      <td>NaN</td>\n",
       "    </tr>\n",
       "  </tbody>\n",
       "</table>\n",
       "</div>"
      ],
      "text/plain": [
       "sex        F     M\n",
       "name              \n",
       "Aaliyah   37   NaN\n",
       "Aaron    NaN  1106\n",
       "Abby      99   NaN\n",
       "Abel     NaN    22\n",
       "Abigail  493   NaN"
      ]
     },
     "execution_count": 113,
     "metadata": {},
     "output_type": "execute_result"
    }
   ],
   "source": [
    "totals_bysex = totals.unstack('sex') #pivot the table by sex\n",
    "totals_bysex.head()"
   ]
  },
  {
   "cell_type": "code",
   "execution_count": 157,
   "metadata": {
    "collapsed": true
   },
   "outputs": [],
   "source": [
    "totals_both = totals_bysex.sum(axis = 1) #Note: axis=1 denotes that we are referring to a column, not a row"
   ]
  },
  {
   "cell_type": "code",
   "execution_count": 158,
   "metadata": {
    "collapsed": false
   },
   "outputs": [
    {
     "data": {
      "text/plain": [
       "name\n",
       "Aaliyah      37\n",
       "Aaron      1106\n",
       "Abby         99\n",
       "Abel         22\n",
       "Abigail     493\n",
       "dtype: float64"
      ]
     },
     "execution_count": 158,
     "metadata": {},
     "output_type": "execute_result"
    }
   ],
   "source": [
    "totals_both.head()"
   ]
  },
  {
   "cell_type": "code",
   "execution_count": 153,
   "metadata": {
    "collapsed": true
   },
   "outputs": [],
   "source": [
    "ratio = totals_bysex['F'] / totals_bysex['M']"
   ]
  },
  {
   "cell_type": "code",
   "execution_count": 154,
   "metadata": {
    "collapsed": false
   },
   "outputs": [
    {
     "data": {
      "text/plain": [
       "name\n",
       "Aaliyah   NaN\n",
       "Aaron     NaN\n",
       "Abby      NaN\n",
       "Abel      NaN\n",
       "Abigail   NaN\n",
       "dtype: float64"
      ]
     },
     "execution_count": 154,
     "metadata": {},
     "output_type": "execute_result"
    }
   ],
   "source": [
    "ratio.head()"
   ]
  },
  {
   "cell_type": "code",
   "execution_count": 132,
   "metadata": {
    "collapsed": false
   },
   "outputs": [
    {
     "data": {
      "text/plain": [
       "pandas.core.series.Series"
      ]
     },
     "execution_count": 132,
     "metadata": {},
     "output_type": "execute_result"
    }
   ],
   "source": [
    "#ratio[(ratio!='NaN')]\n",
    "type(ratio)\n"
   ]
  },
  {
   "cell_type": "code",
   "execution_count": 143,
   "metadata": {
    "collapsed": false
   },
   "outputs": [
    {
     "name": "stdout",
     "output_type": "stream",
     "text": [
      "name\n",
      "Alexis       113.200000\n",
      "Angel          2.809524\n",
      "Ashton         0.133333\n",
      "Avery         14.083333\n",
      "Bailey        16.833333\n",
      "Billie        45.200000\n",
      "Casey          0.155206\n",
      "Chris          0.138655\n",
      "Cody           0.021978\n",
      "Dakota         0.278409\n",
      "Dana           7.794118\n",
      "Dee            3.000000\n",
      "Devin          0.026178\n",
      "Dusty          0.200000\n",
      "Dylan          0.009174\n",
      "Hayden         0.176471\n",
      "Hunter         0.008803\n",
      "Jackie        18.333333\n",
      "Jaden          0.244681\n",
      "Jamie         10.592593\n",
      "Jayden         0.331492\n",
      "Jesse          0.005365\n",
      "Jessie        17.000000\n",
      "Jody           8.428571\n",
      "Jordan         0.486268\n",
      "Kelly          1.758389\n",
      "Kerry          1.173913\n",
      "Kim            3.877778\n",
      "Lee            0.080569\n",
      "Leslie         2.021097\n",
      "Lynn           2.069565\n",
      "Marion         3.611111\n",
      "Michael        0.000702\n",
      "Morgan         4.903614\n",
      "Oakley         2.800000\n",
      "Pat            2.825000\n",
      "Payton         2.319149\n",
      "Peyton         2.180000\n",
      "Quinn          1.400000\n",
      "Remington      1.000000\n",
      "Riley          0.468013\n",
      "River          1.000000\n",
      "Robin          6.194444\n",
      "Ryan           0.004224\n",
      "Sawyer         0.333333\n",
      "Shannon       13.104167\n",
      "Shawn          0.022699\n",
      "Sidney         1.000000\n",
      "Skylar         1.000000\n",
      "Taylor         2.194631\n",
      "Teagan         5.800000\n",
      "Terry          0.217090\n",
      "Tracy          3.807018\n",
      "Tristan        0.019608\n",
      "Tyler          0.004878\n",
      "dtype: float64\n"
     ]
    }
   ],
   "source": [
    "unisex= ratio.dropna()\n",
    "print(unisex)"
   ]
  },
  {
   "cell_type": "code",
   "execution_count": 160,
   "metadata": {
    "collapsed": false
   },
   "outputs": [],
   "source": [
    "#unisex = (ratio > 0.25) & (ratio < 4)\n",
    "#unisex.sort_values(ascending=False)\n",
    "unisex =(ratio >0.50) & (ratio<5)\n",
    "#unisex = (ratio > 0.25) & (ratio < 4)\n"
   ]
  },
  {
   "cell_type": "code",
   "execution_count": 164,
   "metadata": {
    "collapsed": false
   },
   "outputs": [
    {
     "name": "stderr",
     "output_type": "stream",
     "text": [
      "D:\\conda1\\lib\\site-packages\\IPython\\kernel\\__main__.py:2: FutureWarning: sort is deprecated, use sort_values(inplace=True) for for INPLACE sorting\n",
      "  from IPython.kernel.zmq import kernelapp as app\n"
     ]
    },
    {
     "data": {
      "text/plain": [
       "name\n",
       "Kelly     1233\n",
       "Taylor     952\n",
       "Leslie     716\n",
       "Tracy      548\n",
       "Kim        439\n",
       "Lynn       353\n",
       "Marion     166\n",
       "Peyton     159\n",
       "Payton     156\n",
       "Pat        153\n",
       "dtype: float64"
      ]
     },
     "execution_count": 164,
     "metadata": {},
     "output_type": "execute_result"
    }
   ],
   "source": [
    "totals_both = totals_both[unisex]\n",
    "totals_both.sort(ascending=False)\n",
    "totals_both.head(10)"
   ]
  },
  {
   "cell_type": "code",
   "execution_count": 165,
   "metadata": {
    "collapsed": false
   },
   "outputs": [
    {
     "data": {
      "image/png": "[encoded data removed]",
      "text/plain": [
       "<matplotlib.figure.Figure at 0x56c8d518>"
      ]
     },
     "metadata": {},
     "output_type": "display_data"
    }
   ],
   "source": [
    "names = totals_both.head(10).index.values\n",
    "\n",
    "pp.figure(figsize=(12,12))\n",
    "\n",
    "for i,name in enumerate(names):\n",
    "    pp.subplot(5,2,i+1)\n",
    "    \n",
    "    plotname('M',name)\n",
    "    plotname('F',name)\n",
    "    \n",
    "    pp.legend([name + ' M',name + ' F'],loc='upper left')"
   ]
  },
  {
   "cell_type": "code",
   "execution_count": null,
   "metadata": {
    "collapsed": false
   },
   "outputs": [],
   "source": []
  },
  {
   "cell_type": "markdown",
   "metadata": {},
   "source": []
  },
  {
   "cell_type": "markdown",
   "metadata": {},
   "source": []
  },
  {
   "cell_type": "code",
   "execution_count": null,
   "metadata": {
    "collapsed": true
   },
   "outputs": [],
   "source": []
  }
 ],
 "metadata": {
  "kernelspec": {
   "display_name": "Python 3",
   "language": "python",
   "name": "python3"
  },
  "language_info": {
   "codemirror_mode": {
    "name": "ipython",
    "version": 3
   },
   "file_extension": ".py",
   "mimetype": "text/x-python",
   "name": "python",
   "nbconvert_exporter": "python",
   "pygments_lexer": "ipython3",
   "version": "3.4.3"
  }
 },
 "nbformat": 4,
 "nbformat_minor": 0
}
